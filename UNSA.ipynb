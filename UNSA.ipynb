{
 "cells": [
  {
   "cell_type": "markdown",
   "id": "27b8fd33",
   "metadata": {
    "slideshow": {
     "slide_type": "slide"
    }
   },
   "source": [
    "# Sin límites con python\n",
    "## Universidad de Salta \n",
    "### 09 abril 2021\n",
    "### Sebastián Flores"
   ]
  },
  {
   "cell_type": "markdown",
   "id": "8d95baf2",
   "metadata": {
    "slideshow": {
     "slide_type": "slide"
    }
   },
   "source": [
    "## ¿Porqué Python y Jupyter?"
   ]
  },
  {
   "cell_type": "markdown",
   "id": "91ff259c",
   "metadata": {
    "slideshow": {
     "slide_type": "fragment"
    }
   },
   "source": [
    "* Gratis y open source"
   ]
  },
  {
   "cell_type": "markdown",
   "id": "b9dd36ae",
   "metadata": {
    "slideshow": {
     "slide_type": "fragment"
    }
   },
   "source": [
    "* Versátil y completo: \"Baterías incluidas\""
   ]
  },
  {
   "cell_type": "markdown",
   "id": "382e18ce",
   "metadata": {
    "slideshow": {
     "slide_type": "fragment"
    }
   },
   "source": [
    "* Gran comunidad"
   ]
  },
  {
   "cell_type": "markdown",
   "id": "63eec049",
   "metadata": {
    "slideshow": {
     "slide_type": "fragment"
    }
   },
   "source": [
    "* Retroalimentación inmediata"
   ]
  },
  {
   "cell_type": "markdown",
   "id": "bb16a123",
   "metadata": {
    "slideshow": {
     "slide_type": "fragment"
    }
   },
   "source": [
    "* Perfecto para hacer ciencia"
   ]
  },
  {
   "cell_type": "markdown",
   "id": "92768069",
   "metadata": {
    "slideshow": {
     "slide_type": "notes"
    }
   },
   "source": [
    "Anécdota: Pycon Colombia, \"lightning talks\" donde las personas se inscriben para hablar de algún proyecto o idea por máximo 3-5 minutos. Llaman a un chico. El chico sube, y cuenta \"Perdón, me equivoqué, pensé que era para \"asistir\" a las charlas, no para darlas. Llevo un mes aprendiendo Python, me gusta mucho, gracias\". El público lo aplaudió a rabiar y el maestro de ceremonias le deseó lo mejor en su aprendizaje.\n",
    "Python tiene una comunidad donde se comparten conocimientos y donde se reciben con brazos abiertos a nuevos interesados."
   ]
  },
  {
   "cell_type": "markdown",
   "id": "102098ad",
   "metadata": {
    "slideshow": {
     "slide_type": "slide"
    }
   },
   "source": [
    "# Proyectos\n",
    "\n",
    "<div style=\"float: left; width: 50%;\">\n",
    "<br>\n",
    "En minería subterránea:\n",
    "    \n",
    "<b>2008 a 2010 - Análisis de Block Caving </b>\n",
    "\n",
    "<b>2012 a 2013 - Microsismicidad</b>\n",
    "    \n",
    "Usamos Python para implementar ecuaciones de mecánica de sólidos,\n",
    "    de fluídos y de ruptura, y para resolver el problema inverso de conocer el estado del macizo rocoso a partir de eventos microsísmicos.\n",
    "</div>\n",
    "\n",
    "<div style=\"float: right; width: 50%;\">\n",
    "    <img src=\"images/block-caving.png\" alt=\"Block Caving\" width=\"800\" height=\"800\">\n",
    "</div>\n"
   ]
  },
  {
   "cell_type": "markdown",
   "id": "71ddae73",
   "metadata": {
    "slideshow": {
     "slide_type": "slide"
    }
   },
   "source": [
    "# Proyectos\n",
    "\n",
    "<div style=\"float: left; width: 50%;\">\n",
    "<br><br>\n",
    "<img src=\"images/tsunami.gif\" alt=\"Tsunami\" width=\"1200\" height=\"800\">\n",
    "</div>\n",
    "<div style=\"float: right; width: 50%;\">\n",
    "<b>2014 a 2015 - Propagación de tsunamis</b>\n",
    "\n",
    "Usamos Python para:\n",
    "* Preprocesamiento: codificar conjunto de pruebas de soluciones conocidas.\n",
    "* Procesamiento: Implementación numérica de Shallow Water Equations, usando volúmenes finitos en mallas triangulares adaptativas.\n",
    "* Módulo de post-procesamiento: motor gráfico para hacer animaciones.\n",
    "\n",
    "Artículo publicado en congreso de la Sociedad Chilena de Ingeniería Hidráulica.\n",
    "</div>\n",
    "\n"
   ]
  },
  {
   "cell_type": "markdown",
   "id": "01f6cb9a",
   "metadata": {},
   "source": [
    "<img src=\"images/tsunami.gif\" alt=\"Tsunami\" width=\"1200\" height=\"1000\">"
   ]
  },
  {
   "cell_type": "markdown",
   "id": "d559a52b",
   "metadata": {
    "slideshow": {
     "slide_type": "slide"
    }
   },
   "source": [
    "# Proyectos\n",
    "<div style=\"float: left; width: 40%;\">\n",
    "    \n",
    "**2005 a hoy - Pypsdier**\n",
    "    \n",
    "Usamos python para implementar ecuaciones de reacción-difusión para catalizadores inmobilizados en particulas porosas.\n",
    "\n",
    "La librería está disponible públicamente en pypi.\n",
    "\n",
    "Numerosos congresos y publicaciones.\n",
    "</div>\n",
    "\n",
    "<div style=\"float: right; width: 55%;\">\n",
    "<br><br><img src=\"images/pypsdier1.gif\" alt=\"Pypsdier\" width=\"800\" height=\"800\">\n",
    "</div>"
   ]
  },
  {
   "cell_type": "markdown",
   "id": "777aafe7",
   "metadata": {
    "slideshow": {
     "slide_type": "slide"
    }
   },
   "source": [
    "\n",
    "<img src=\"images/pypsdier2.gif\" alt=\"Pypsdier\" width=\"1000\" height=\"800\">\n"
   ]
  },
  {
   "cell_type": "markdown",
   "id": "5ec16279",
   "metadata": {
    "slideshow": {
     "slide_type": "slide"
    }
   },
   "source": [
    "## Algunas reflexiones"
   ]
  },
  {
   "cell_type": "markdown",
   "id": "7c01441e",
   "metadata": {
    "slideshow": {
     "slide_type": "fragment"
    }
   },
   "source": [
    "* Programación (tecnología en general) es un juego en equipo. "
   ]
  },
  {
   "cell_type": "markdown",
   "id": "69cb8211",
   "metadata": {
    "slideshow": {
     "slide_type": "fragment"
    }
   },
   "source": [
    "* Hay mucho realizado, pero hay más por hacer."
   ]
  },
  {
   "cell_type": "markdown",
   "id": "1867b1c5",
   "metadata": {
    "slideshow": {
     "slide_type": "fragment"
    }
   },
   "source": [
    "* El problema ya no es la información, sino la motivación."
   ]
  },
  {
   "cell_type": "markdown",
   "id": "c03b4b27",
   "metadata": {
    "slideshow": {
     "slide_type": "slide"
    }
   },
   "source": [
    "Demasiado\n",
    "\n",
    "### blablá\n",
    "\n",
    "y poco\n",
    "\n",
    "# código"
   ]
  },
  {
   "cell_type": "markdown",
   "id": "01a558a1",
   "metadata": {
    "slideshow": {
     "slide_type": "slide"
    }
   },
   "source": [
    "## Ejemplo 1\n",
    "Código realmente **interactivo.**\n",
    "\n",
    "La programación, en particular Python, te permite comprender un fenómeno de manera intuitiva e interactiva.\n",
    "\n",
    "El \"pensamiento computacional\" es una habilidad a desarrollar."
   ]
  },
  {
   "cell_type": "code",
   "execution_count": null,
   "id": "0f2dbd9d",
   "metadata": {},
   "outputs": [],
   "source": [
    "import numpy as np\n",
    "import matplotlib.pyplot as plt\n",
    "from math import pi\n",
    "\n",
    "def plot_graph(a=1.0, b=0.5, theta=2*pi):\n",
    "    # some arbitrary function of a,b,c\n",
    "    x = np.linspace(-10,10,1000)\n",
    "    y = a*np.sin(theta*x) + b*x\n",
    "    plt.plot(x,y)\n",
    "    plt.ylim(-10,10)\n",
    "    plt.title(\"y = $A \\ \\\\sin( \\\\theta x ) + B \\ x$\")\n",
    "    plt.show()"
   ]
  },
  {
   "cell_type": "code",
   "execution_count": null,
   "id": "74f99ad4",
   "metadata": {
    "slideshow": {
     "slide_type": "slide"
    }
   },
   "outputs": [],
   "source": [
    "plot_graph()"
   ]
  },
  {
   "cell_type": "code",
   "execution_count": null,
   "id": "741e6a53",
   "metadata": {
    "slideshow": {
     "slide_type": "slide"
    }
   },
   "outputs": [],
   "source": [
    "from ipywidgets import interact\n",
    "interact(plot_graph);"
   ]
  },
  {
   "cell_type": "markdown",
   "id": "d6fc4192",
   "metadata": {
    "slideshow": {
     "slide_type": "slide"
    }
   },
   "source": [
    "## Ejemplo 2: Pypsdier\n",
    "\n",
    "Desarrollando para un usuario sin mucha experiencia: mi experiencia con pypsdier.\n",
    "\n",
    "Primer paso: Instalar la librería"
   ]
  },
  {
   "cell_type": "code",
   "execution_count": null,
   "id": "34a522a3",
   "metadata": {},
   "outputs": [],
   "source": [
    "#!pip install pypsdier --upgrade\n",
    "!pip install git+https://github.com/sebastiandres/pypsdier.git --upgrade"
   ]
  },
  {
   "cell_type": "markdown",
   "id": "7a64c374",
   "metadata": {
    "slideshow": {
     "slide_type": "slide"
    }
   },
   "source": [
    "Definiendo los parámetros de la simulación"
   ]
  },
  {
   "cell_type": "code",
   "execution_count": null,
   "id": "fb5e7fe2",
   "metadata": {},
   "outputs": [],
   "source": [
    "def MichaelisMenten(S, E0, k, K):\n",
    "  \"\"\"Definition for Michaelis Menten reaction with inputs E0 [mM], k [1/s] and K [mM]\"\"\"\n",
    "  return (-k*E0*S[0]/(K+S[0]), )\n",
    "\n",
    "inputs = {}\n",
    "inputs[\"SimulationTime\"] = 60. # [s]\n",
    "inputs[\"SavingTimeStep\"] = 1. # [s]\n",
    "inputs[\"CatalystVolume\"] = 0.5 # [mL]\n",
    "inputs[\"BulkVolume\"]  = 100.0  # [mL]\n",
    "inputs[\"Names\"] = ('Substrat',)  # legend for the xls, reports and plots\n",
    "inputs[\"InitialConcentrations\"] = (1.3,)   # [mM]\n",
    "inputs[\"EffectiveDiffusionCoefficients\"] = (5.3E-10,)  # [m2/s]\n",
    "inputs[\"CatalystParticleRadius\"] = [40.0E-6, 60.0E-6, 80.0E-6] # [m]\n",
    "inputs[\"CatalystParticleRadiusFrequency\"] = [0.3, 0.5, 0.2] # []\n",
    "inputs[\"ReactionFunction\"] = MichaelisMenten # function \n",
    "inputs[\"ReactionParameters\"] = (41 , 0.13)   # [1/s], [mM/s], parameters\n",
    "inputs[\"CatalystEnzymeConcentration\"] = 0.35 # [mM]"
   ]
  },
  {
   "cell_type": "markdown",
   "id": "a4994fcb",
   "metadata": {
    "slideshow": {
     "slide_type": "slide"
    }
   },
   "source": [
    "Definiendo los parámetros gráficos"
   ]
  },
  {
   "cell_type": "code",
   "execution_count": null,
   "id": "3ff35444",
   "metadata": {},
   "outputs": [],
   "source": [
    "plot_options = {}\n",
    "plot_options[\"label_x\"] = \"Tiempo de reacción [s]\"\n",
    "plot_options[\"label_y\"] = \"Concentración [mM]\"\n",
    "plot_options[\"title\"] = \"Simulación de Michaelis Menten\"\n",
    "plot_options[\"ode_kwargs\"] = {'label':'Enzima Libre', 'color':'blue', 'marker':'', 'markersize':6, 'linestyle':'dashed', 'linewidth':2}\n",
    "plot_options[\"pde_kwargs\"] = {'label':'Enzima Inmobilizada', 'color':'blue', 'marker':'', 'markersize':6, 'linestyle':'solid', 'linewidth':2}\n",
    "plot_options[\"data_kwargs\"] = {'label':'Experimento', 'color':'green', 'marker':'s', 'markersize':8, 'linestyle':'none', 'linewidth':2}\n",
    "plot_options[\"data_x\"] = [0.0, 30, 60, 90, 120]\n",
    "plot_options[\"data_y\"] = [1.3, 0.65, 0.25, 0.10, 0.0]"
   ]
  },
  {
   "cell_type": "markdown",
   "id": "09558152",
   "metadata": {
    "slideshow": {
     "slide_type": "slide"
    }
   },
   "source": [
    "Lanzando una simulación, extremadamente simplista:"
   ]
  },
  {
   "cell_type": "code",
   "execution_count": null,
   "id": "0f7bf3e1",
   "metadata": {},
   "outputs": [],
   "source": [
    "import pypsdier\n",
    "SIM1 = pypsdier.SimulationInterface()\n",
    "SIM1.new(inputs, plot_options)\n",
    "SIM1.simulate(\"ode\")\n",
    "SIM1.simulate(\"pde\")"
   ]
  },
  {
   "cell_type": "markdown",
   "id": "d58ecf35",
   "metadata": {
    "slideshow": {
     "slide_type": "slide"
    }
   },
   "source": [
    "Veamos el resultado"
   ]
  },
  {
   "cell_type": "code",
   "execution_count": null,
   "id": "d8101b80",
   "metadata": {},
   "outputs": [],
   "source": [
    "SIM1.plot(figsize=(14,10))"
   ]
  },
  {
   "cell_type": "markdown",
   "id": "d96fddcb",
   "metadata": {
    "slideshow": {
     "slide_type": "slide"
    }
   },
   "source": [
    "## Ejemplo 3:\n",
    "Hacer Machine Learning, con GPU, a costo cero:\n",
    "\n",
    "[https://tinyurl.com/3334xchz](https://tinyurl.com/3334xchz)"
   ]
  }
 ],
 "metadata": {
  "celltoolbar": "Slideshow",
  "kernelspec": {
   "display_name": "Python 3",
   "language": "python",
   "name": "python3"
  },
  "language_info": {
   "codemirror_mode": {
    "name": "ipython",
    "version": 3
   },
   "file_extension": ".py",
   "mimetype": "text/x-python",
   "name": "python",
   "nbconvert_exporter": "python",
   "pygments_lexer": "ipython3",
   "version": "3.9.2"
  },
  "rise": {
   "autolaunch": true,
   "backimage": "background/4.png",
   "enable_chalkboard": true,
   "footer": "Sebastián Flores",
   "header": "<h1>Sin límites con Python</h1>"
  }
 },
 "nbformat": 4,
 "nbformat_minor": 5
}
